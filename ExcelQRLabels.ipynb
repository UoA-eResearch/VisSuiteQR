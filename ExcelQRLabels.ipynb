{
  "nbformat": 4,
  "nbformat_minor": 0,
  "metadata": {
    "colab": {
      "provenance": [],
      "toc_visible": true,
      "authorship_tag": "ABX9TyNEwzRkKO6Be+5T6sGT3+FR",
      "include_colab_link": true
    },
    "kernelspec": {
      "name": "python3",
      "display_name": "Python 3"
    },
    "language_info": {
      "name": "python"
    }
  },
  "cells": [
    {
      "cell_type": "markdown",
      "metadata": {
        "id": "view-in-github",
        "colab_type": "text"
      },
      "source": [
        "<a href=\"https://colab.research.google.com/github/UoA-eResearch/VisSuiteQR/blob/main/ExcelQRLabels.ipynb\" target=\"_parent\"><img src=\"https://colab.research.google.com/assets/colab-badge.svg\" alt=\"Open In Colab\"/></a>"
      ]
    },
    {
      "cell_type": "markdown",
      "source": [
        "# VisSuite Label generation (QR Code)\n",
        "\n",
        "This notebook is intended to facilitate the creation of printed labels to be stuck on eqipment.\n",
        "\n",
        "The latest version of a spreadsheet needs to be uploaded (see [README](https://github.com/UoA-eResearch/VisSuiteQR/blob/main/README.md))\n",
        "\n",
        "| Size        | Usage                           |\n",
        "|-------------|---------------------------------|\n",
        "| 'Big'     | ... on boxes                    |\n",
        "| 'Small'   | ... on headsets, etc            |\n",
        "| 'Super Small' | ... on controllers          |\n",
        "\n",
        "![exampleLabels](https://raw.githubusercontent.com/UoA-eResearch/VisSuiteQR/main/Labels.jpg)\n",
        "\n",
        "## Process\n",
        "This description is based on the understanding that you have the printer (Brother Q700), etc. successfully installed on your local computer and connected it.\n",
        "\n",
        "- open this Colab Notebook\n",
        "- drag and drop the (Sharepoint downloaded) `xslx` file into the files section\n",
        "- ![dragdrop](https://raw.githubusercontent.com/UoA-eResearch/VisSuiteQR/main/DragDrop.jpg)\n",
        "- as this spreadsheet is continued (new kit gets added to later rows), you probably want to specify the range (*start from row x until row y*), for this, use the boxes below in Section \"Pick what you need\"\n",
        "- run the whole notebook `Runtime`, `Run all`\n",
        "- download the generated PDF from the Files section (leftmost sidebar, folder icon)\n",
        "- open these in Adobe Acrobat\n",
        "- Choose `File` then `Print`\n",
        "  - make sure to select the correct printer, then select `Page setup` and dial in the settings as shown in the following screenshots:\n",
        "\n",
        "### Settings for Big Labels\n",
        "\n",
        "![big](https://raw.githubusercontent.com/UoA-eResearch/VisSuiteQR/main/AcrobatBig.jpg)\n",
        "\n",
        "### Settings for Small Labels\n",
        "\n",
        "![small](https://raw.githubusercontent.com/UoA-eResearch/VisSuiteQR/main/AcrobatSmall.jpg)\n",
        "\n",
        "\n",
        "### Settings for Super Small Labels\n",
        "\n",
        "![supersmall](https://raw.githubusercontent.com/UoA-eResearch/VisSuiteQR/main/AcrobatSuperSmall.jpg)\n",
        "\n",
        "\n",
        "\n"
      ],
      "metadata": {
        "id": "jp0IFFAabeKj"
      }
    },
    {
      "cell_type": "markdown",
      "source": [
        "## Import needed libraries"
      ],
      "metadata": {
        "id": "fbxtUN4bcz6J"
      }
    },
    {
      "cell_type": "code",
      "source": [
        "import openpyxl\n",
        "import pandas as pd\n",
        "import requests\n",
        "import shutil"
      ],
      "metadata": {
        "id": "9xCjDAQnZ3TI"
      },
      "execution_count": null,
      "outputs": []
    },
    {
      "cell_type": "markdown",
      "source": [
        "# Pick what you need\n",
        "\n",
        "- To avoid repetition ( [DRY principle](https://en.wikipedia.org/wiki/Don%27t_repeat_yourself)), data (such as names, serial numbers and short names are only to be entered once into the spreadsheet\n",
        "- as this sheet keeps growing but you most likely only want to print labels for the most recently added items, you can specify the row numbers (as per the Excel sheet, starting with 1) that you want to print labels for"
      ],
      "metadata": {
        "id": "eUlsNJrGbcmg"
      }
    },
    {
      "cell_type": "code",
      "source": [
        "#@markdown ## Enter your desired colums here\n",
        "start_row = \"103\" #@param {type: \"string\"}\n",
        "end_row = \"108\" #@param {type: \"string\"}"
      ],
      "metadata": {
        "id": "rwvRmV-WZzJD"
      },
      "execution_count": 1,
      "outputs": []
    },
    {
      "cell_type": "markdown",
      "source": [
        "todo adapt to Sharepoint ingest Excel"
      ],
      "metadata": {
        "id": "paL6Qg2cZ_fD"
      }
    },
    {
      "cell_type": "markdown",
      "source": [
        "## Load the Excel sheet as a dataframe"
      ],
      "metadata": {
        "id": "2gnJQS1zdv8N"
      }
    },
    {
      "source": [
        "# From VisLog.xlsx and sheet Inventory\n",
        "workbook = openpyxl.load_workbook('VisLog.xlsx')\n",
        "sheet = workbook['Inventory']\n",
        "\n",
        "# Convert input strings to integers\n",
        "start_row = int(start_row) if start_row else None\n",
        "end_row = int(end_row) if end_row else None\n",
        "\n",
        "data = []\n",
        "if start_row and end_row:\n",
        "  # Get column names from row 1\n",
        "  column_names = [cell.value for cell in sheet[1]]\n",
        "\n",
        "  for row in sheet.iter_rows(min_row=start_row, max_row=end_row, values_only=True):\n",
        "    data.append(row)\n",
        "\n",
        "  df = pd.DataFrame(data, columns=column_names)  # Use column names from row 1\n",
        "\n"
      ],
      "cell_type": "code",
      "metadata": {
        "id": "_TdElI-ETwMI"
      },
      "execution_count": null,
      "outputs": []
    },
    {
      "cell_type": "markdown",
      "source": [
        "# Create Big Labels for the Boxes, etc"
      ],
      "metadata": {
        "id": "AbgVXdfToJJ_"
      }
    },
    {
      "cell_type": "markdown",
      "source": [
        "## Translate the previously imported information into ZPL"
      ],
      "metadata": {
        "id": "ZGBQ5fILeE2E"
      }
    },
    {
      "cell_type": "code",
      "source": [
        "big_label_list = []\n",
        "\n",
        "for _, row in df.iterrows():\n",
        "    big_label_list.append(\n",
        "        f\"^XA^XFR:SAMPLE.ZPL^FN1^FD{row['Item']}^FS^FN2^FD{row['UoA Tag']}^FS\"\n",
        "        f\" ^FN3^FD{row['Short Number']}^FS ^FN4^FD{row['Short Name']}^FS\"\n",
        "        f\" ^FN5^FD{row['Serial Number']}^FS ^FN6^FDQA{row['UoA Tag']} ^XZ\"\n",
        "    )\n",
        "\n",
        "print(big_label_list)"
      ],
      "metadata": {
        "colab": {
          "base_uri": "https://localhost:8080/"
        },
        "id": "NFcRgtuYXMBs",
        "outputId": "6901fb60-29d9-4e23-adda-3efb95f8ee44"
      },
      "execution_count": null,
      "outputs": [
        {
          "output_type": "stream",
          "name": "stdout",
          "text": [
            "['^XA^XFR:SAMPLE.ZPL^FN1^FDHoloLensV1^FS^FN2^FDUOA316072^FS ^FN3^FD#3^FS ^FN4^FDHoloV1^FS ^FN5^FD991263056^FS ^FN6^FDQAUOA316072 ^XZ', '^XA^XFR:SAMPLE.ZPL^FN1^FDHoloLensV1^FS^FN2^FDUOA316093^FS ^FN3^FD#4^FS ^FN4^FDHoloV1^FS ^FN5^FD660264756^FS ^FN6^FDQAUOA316093 ^XZ', '^XA^XFR:SAMPLE.ZPL^FN1^FDHoloLensV1^FS^FN2^FDUOA316095^FS ^FN3^FD#5^FS ^FN4^FDHoloV1^FS ^FN5^FD613464956^FS ^FN6^FDQAUOA316095 ^XZ', '^XA^XFR:SAMPLE.ZPL^FN1^FDHoloLensV1^FS^FN2^FDUOA316197^FS ^FN3^FD#6^FS ^FN4^FDHoloV1^FS ^FN5^FD503665056^FS ^FN6^FDQAUOA316197 ^XZ', '^XA^XFR:SAMPLE.ZPL^FN1^FDVR LAPTOP NEW^FS^FN2^FDUOA316123^FS ^FN3^FD^FS ^FN4^FDNone^FS ^FN5^FDBY2210M78901043^FS ^FN6^FDQAUOA316123 ^XZ', '^XA^XFR:SAMPLE.ZPL^FN1^FDElgato Stream Deck Mini^FS^FN2^FDUOA448133^FS ^FN3^FD^FS ^FN4^FDNone^FS ^FN5^FDBL22L2B05133^FS ^FN6^FDQAUOA448133 ^XZ']\n"
          ]
        }
      ]
    },
    {
      "cell_type": "markdown",
      "source": [
        "## Use the previously generated information in a templated layout (the box with the characteristic UoA angled corners)"
      ],
      "metadata": {
        "id": "cu8dQQAPemGZ"
      }
    },
    {
      "cell_type": "code",
      "source": [
        "# ZPL Labels:\n",
        "zpltemplate = '^XA (600 dots wide; 372 dots tall, 7dots border 88dots angle) ^DFR:SAMPLE.ZPL^FS (this is the template bit) ^FO 80,35^A0,,35^FD CeR - Centre for eResearch ^FS (this is the title) ^FO7,7^GD88,88,10,B,^FS (this is the top-left diagonal) ^FO488,275^GD88,88,10,B,^FS (this is the bottom-right diagonal) ^FO7,95^GB10,269,10^FS (this is the left line) ^FO576,7^GB10,269,10^FS (this is the right line) ^FO95,7^GB488,10,10,^FS (this is the top line) ^FO7,355^GB488,10,10,^FS (this is the bottom line) ^FO350,65^BQN,2,9 ^FN6 ^FS  (this is the QR code) ^FO 80,125^A0,,18^FDItem: ^FS (Static Text Item:) ^FO190,125^ADN,18,10^FN1^FS (ItemInsert) ^FO 80,165^A0,,18^FDUoA Tag No.^FS (Static TextUoA Tag No.) ^FO190,165^ADN,18,10^FN2^FS (UoATagInsert) ^FO 80,205^A0,,18^FDShort:^FS (Static Text Short:) ^FO190,205^A0,36,30^FN4^FS (ShortInsert) ^FO190,245^A0,72,60^FN3^FS (ShortInsertNUMBER) ^FO 80,320^A0,,12^FDSerial:^FS (Static Text Short:) ^FO190,320^A0,,25^FN5^FS SerialInsert) ^XZ'\n",
        "\n",
        "# Prepend the template string to the list\n",
        "big_label_list.insert(0, zpltemplate)\n",
        "\n",
        "# Flatten the list into a single string\n",
        "big_label_all = ''.join(big_label_list)\n",
        "\n",
        "# Output the final string\n",
        "print(big_label_all)\n",
        "\n"
      ],
      "metadata": {
        "colab": {
          "base_uri": "https://localhost:8080/"
        },
        "id": "bOnBIbr5hc83",
        "outputId": "65496c84-34d3-41c2-f528-ded744499478"
      },
      "execution_count": null,
      "outputs": [
        {
          "output_type": "stream",
          "name": "stdout",
          "text": [
            "^XA (600 dots wide; 372 dots tall, 7dots border 88dots angle) ^DFR:SAMPLE.ZPL^FS (this is the template bit) ^FO 80,35^A0,,35^FD CeR - Centre for eResearch ^FS (this is the title) ^FO7,7^GD88,88,10,B,^FS (this is the top-left diagonal) ^FO488,275^GD88,88,10,B,^FS (this is the bottom-right diagonal) ^FO7,95^GB10,269,10^FS (this is the left line) ^FO576,7^GB10,269,10^FS (this is the right line) ^FO95,7^GB488,10,10,^FS (this is the top line) ^FO7,355^GB488,10,10,^FS (this is the bottom line) ^FO350,65^BQN,2,9 ^FN6 ^FS  (this is the QR code) ^FO 80,125^A0,,18^FDItem: ^FS (Static Text Item:) ^FO190,125^ADN,18,10^FN1^FS (ItemInsert) ^FO 80,165^A0,,18^FDUoA Tag No.^FS (Static TextUoA Tag No.) ^FO190,165^ADN,18,10^FN2^FS (UoATagInsert) ^FO 80,205^A0,,18^FDShort:^FS (Static Text Short:) ^FO190,205^A0,36,30^FN4^FS (ShortInsert) ^FO190,245^A0,72,60^FN3^FS (ShortInsertNUMBER) ^FO 80,320^A0,,12^FDSerial:^FS (Static Text Short:) ^FO190,320^A0,,25^FN5^FS SerialInsert) ^XZ^XA^XFR:SAMPLE.ZPL^FN1^FDHoloLensV1^FS^FN2^FDUOA316072^FS ^FN3^FD#3^FS ^FN4^FDHoloV1^FS ^FN5^FD991263056^FS ^FN6^FDQAUOA316072 ^XZ^XA^XFR:SAMPLE.ZPL^FN1^FDHoloLensV1^FS^FN2^FDUOA316093^FS ^FN3^FD#4^FS ^FN4^FDHoloV1^FS ^FN5^FD660264756^FS ^FN6^FDQAUOA316093 ^XZ^XA^XFR:SAMPLE.ZPL^FN1^FDHoloLensV1^FS^FN2^FDUOA316095^FS ^FN3^FD#5^FS ^FN4^FDHoloV1^FS ^FN5^FD613464956^FS ^FN6^FDQAUOA316095 ^XZ^XA^XFR:SAMPLE.ZPL^FN1^FDHoloLensV1^FS^FN2^FDUOA316197^FS ^FN3^FD#6^FS ^FN4^FDHoloV1^FS ^FN5^FD503665056^FS ^FN6^FDQAUOA316197 ^XZ^XA^XFR:SAMPLE.ZPL^FN1^FDVR LAPTOP NEW^FS^FN2^FDUOA316123^FS ^FN3^FD^FS ^FN4^FDNone^FS ^FN5^FDBY2210M78901043^FS ^FN6^FDQAUOA316123 ^XZ^XA^XFR:SAMPLE.ZPL^FN1^FDElgato Stream Deck Mini^FS^FN2^FDUOA448133^FS ^FN3^FD^FS ^FN4^FDNone^FS ^FN5^FDBL22L2B05133^FS ^FN6^FDQAUOA448133 ^XZ\n"
          ]
        }
      ]
    },
    {
      "cell_type": "code",
      "source": [
        "url = 'http://api.labelary.com/v1/printers/12dpmm/labels/1.94x1.22/'\n",
        "files = {'file' : big_label_all}\n",
        "headers = {'Accept' : 'application/pdf'} # omit this line to get PNG images back\n",
        "response = requests.post(url, headers = headers, files = files, stream = True)\n",
        "\n",
        "if response.status_code == 200:\n",
        "    response.raw.decode_content = True\n",
        "    with open('QRlabelsBig.pdf', 'wb') as out_file: # change file name for PNG images\n",
        "        shutil.copyfileobj(response.raw, out_file)\n",
        "else:\n",
        "    print('Error: ' + response.text)"
      ],
      "metadata": {
        "id": "D6wiTZAohxJZ"
      },
      "execution_count": null,
      "outputs": []
    },
    {
      "cell_type": "markdown",
      "source": [
        "# Create small labels for Headsets, etc."
      ],
      "metadata": {
        "id": "mQBr5j7Mzm9H"
      }
    },
    {
      "cell_type": "code",
      "source": [
        "small_label_list = []\n",
        "for index, row in df.iterrows():\n",
        "    small_label_list.append(f\"^XA^XFR:SAMPLE.ZPL^FN3^FD{row['Short Number']}^FS^FN4^FD{row['Short Name']}^FS ^FN6^FD{row['UoA Tag']}^FS ^XZ\")\n",
        "\n",
        "# print(short_label_list)"
      ],
      "metadata": {
        "id": "IKnByUpspQLC"
      },
      "execution_count": null,
      "outputs": []
    },
    {
      "cell_type": "code",
      "source": [
        "zpl_small_template = '^XA (600 dots wide; 372 dots tall, 7dots border 88dots angle) ^DFR:SAMPLE.ZPL^FS (this is the template bit) ^FO 80,35^A0,,35^FD CeR - Centre for eResearch ^FS (this is the title) ^FO7,7^GD88,88,10,B,^FS (this is the top-left diagonal) ^FO488,185^GD88,88,10,B,^FS (this is the bottom-right diagonal) ^FO7,95^GB10,180,10^FS (this is the left line) ^FO576,7^GB10,180,10^FS (this is the right line) ^FO95,7^GB488,10,10,^FS (this is the top line) ^FO7,265^GB488,10,10,^FS (this is the bottom line) ^FO300,65^BQN,2,8 ^FN6 ^FS  (this is the QR code) ^FO80,80^A0,54,45^FN4^FS (ShortInsert) ^FO80,145^A0,120,100^FN3^FS (ShortInsertNUMBER) ^XZ'\n",
        "# zplvariable = 'HoloLensV2^FS^FN2^FDUOA123123^FS (UoATagInsert) ^FN3^FDHoloV2^FS(ShortInsert) ^FN4^FD#1^FS(ShortInsertNUMBER) ^FN5^FDSERIAL123123123123^FS(SerialNo) ^XZ'\n",
        "\n",
        "zpl_small = zpl_small_template + str(small_label_list)\n",
        "# Brother QL 700 can do 300dpi, that is about 11.8dpmm, nearest of set of posibilities (Valid values are 6dpmm, 8dpmm, 12dpmm, and 24dpmm) is 12\n",
        "# adjust print density (12dpmm), label width (3.94 inches), label height (2.44 inches), and label index (0) as necessary\n",
        "# 1200 dots wide; 744 dots tall\n",
        "# but: QR Codes can only be scaled with internal factors 1-10, that's to small, so half everything\n",
        "url = 'http://api.labelary.com/v1/printers/12dpmm/labels/1.96x0.94/'\n",
        "# files = {'file' : (zpl, zplb)}\n",
        "files = {'file' : zpl_small}\n",
        "headers = {'Accept' : 'application/pdf'} # omit this line to get PNG images back\n",
        "response = requests.post(url, headers = headers, files = files, stream = True)\n",
        "\n",
        "if response.status_code == 200:\n",
        "    response.raw.decode_content = True\n",
        "    with open('QRlabelsSmall.pdf', 'wb') as out_file: # change file name for PNG images\n",
        "        shutil.copyfileobj(response.raw, out_file)\n",
        "else:\n",
        "    print('Error: ' + response.text)"
      ],
      "metadata": {
        "id": "QuKT1DecpQD1"
      },
      "execution_count": null,
      "outputs": []
    },
    {
      "cell_type": "markdown",
      "source": [
        "# Create Controller labels (really small)"
      ],
      "metadata": {
        "id": "UuKprxaKzviR"
      }
    },
    {
      "cell_type": "code",
      "source": [
        "super_small_template = \"^XA ^DFR:SAMPLEsuper.ZPL^FS (this is the template bit)^CF0,50,50 ^PR12 ^LRY ^MD30 ^PW495 ^LL228 ^PON ^FO17,17^GD38,38,10,B,^FS (this is the top-left diagonal) ^FO250,17^GD38,38,10,B,^FS (this is the top-left diagonal) ^FO19,55^GB8,150,6^FS (this is the left line) ^FO250,55^GB8,150,6^FS (this is the left line) ^FO240,17^GB8,190,6^FS (this is the right line) ^FO470,17^GB8,190,6^FS (this is the right line) ^FO58,17^GB186,10,10,^FS (this is the top line) ^FO288,17^GB186,10,10,^FS (this is the top line) ^FO19,200^GB226,10,10,^FS (this is the bottom line) ^FO248,200^GB226,10,10,^FS (this is the bottom line) ^FO51,40^FN1^FS ^FO51,90^FN2^FS ^FO51,131^FDleft^FS ^FO282,40^FN3^FS ^FO282,90^FN4^FS ^FO282,131 ^FDright^FS ^XZ\""
      ],
      "metadata": {
        "id": "gxJApy5r1wu2"
      },
      "execution_count": null,
      "outputs": []
    },
    {
      "cell_type": "code",
      "source": [
        "super_small_label_list = []\n",
        "for index, row in df.iterrows():\n",
        "    super_small_label_list.append(f\"^XA^XFR:SAMPLEsuper.ZPL^FN1^FD{row['Short Name']}^FS^FN2^FD{row['Short Number']}^FS^FN3^FD{row['Short Name']}^FS^FN4^FD{row['Short Number']}^FS ^XZ\")\n",
        "\n",
        "# # print(super_small_label_list)\n",
        "\n",
        "\n",
        "# # Prepend the template string to the list\n",
        "# super_small_label_list.insert(0, super_small_template)\n",
        "\n",
        "# # Flatten the list into a single string\n",
        "# super_small_label_all = ''.join(super_small_label_list)\n",
        "\n",
        "# # Output the final string\n",
        "# print(super_small_label_all)"
      ],
      "metadata": {
        "id": "cJDEGyUz1v5r"
      },
      "execution_count": null,
      "outputs": []
    },
    {
      "cell_type": "code",
      "source": [
        "zpl_super_small = super_small_template + str(super_small_label_list)\n",
        "# Brother QL 700 can do 300dpi, that is about 11.8dpmm, nearest of set of posibilities (Valid values are 6dpmm, 8dpmm, 12dpmm, and 24dpmm) is 12\n",
        "# adjust print density (12dpmm), label width (3.94 inches), label height (2.44 inches), and label index (0) as necessary\n",
        "# 1200 dots wide; 744 dots tall\n",
        "# but: QR Codes can only be scaled with internal factors 1-10, that's to small, so half everything\n",
        "url = 'http://api.labelary.com/v1/printers/8dpmm/labels/2.44x1.14/'\n",
        "# files = {'file' : (zpl, zplb)}\n",
        "files = {'file' : zpl_super_small}\n",
        "headers = {'Accept' : 'application/pdf'} # omit this line to get PNG images back\n",
        "response = requests.post(url, headers = headers, files = files, stream = True)\n",
        "\n",
        "if response.status_code == 200:\n",
        "    response.raw.decode_content = True\n",
        "    with open('QRlabelsSuperSmall.pdf', 'wb') as out_file: # change file name for PNG images\n",
        "        shutil.copyfileobj(response.raw, out_file)\n",
        "else:\n",
        "    print('Error: ' + response.text)"
      ],
      "metadata": {
        "id": "xURUG7_u4UPd"
      },
      "execution_count": null,
      "outputs": []
    },
    {
      "cell_type": "code",
      "source": [
        "# alternative approach instead of API: Local PDF genreation; challenge: zplgrf currently can only output pixel\n",
        "# !pip install zplgrf"
      ],
      "metadata": {
        "id": "2mGocHJ8nQpN"
      },
      "execution_count": null,
      "outputs": []
    },
    {
      "cell_type": "code",
      "source": [],
      "metadata": {
        "id": "Wb1LSfEEnSLj"
      },
      "execution_count": null,
      "outputs": []
    }
  ]
}